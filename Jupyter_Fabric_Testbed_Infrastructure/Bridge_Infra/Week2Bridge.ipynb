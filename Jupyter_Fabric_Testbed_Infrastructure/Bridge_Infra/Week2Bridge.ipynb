#Gavin Hunsinger 9/9/2024-9/13/2024

from ipaddress import ip_address, IPv4Address, IPv6Address, IPv4Network, IPv6Network
import ipaddress

from fabrictestbed_extensions.fablib.fablib import FablibManager as fablib_manager

fablib = fablib_manager()
                     
fablib.show_config();
slice_name = 'Gavin_Hunsinger_Week2Bridge_09/22/2024'

site = 'WASH'
base_cores=2
base_ram=8
base_disk=100
desired_image='default_debian_12'
#desired_image='default_ubuntu_22'

network1_name='net1' #trying to bridge so no need to go between two networks? (probably need cause getting errors)
net_type = 'L2Bridge'

node1_name = 'N1'
node2_name = 'N2'
node3_name = 'bridge_node'


nic_model = 'NIC_Basic'

node1_nic_name = 'nic1N1'
node2_nic_name = 'nic2N2'

node3_nic1_name = 'bridge1'
node3_nic2_name = 'bridge2'
slice = fablib.new_slice(name=slice_name)
subnet = IPv4Network("192.168.1.0/24")
net1=slice.add_l2network(name=network1_name, type=net_type)
#bridge interfaces
bridge = slice.add_node(name=node3_name, site=site, cores=base_cores, ram=base_ram, disk=base_disk, image=desired_image)
bridge_iface1 = bridge.add_component(model=nic_model, name=node3_nic1_name).get_interfaces()[0]
bridge_iface2 = bridge.add_component(model=nic_model, name=node3_nic2_name).get_interfaces()[0]
net1.add_interface(bridge_iface1)
net1.add_interface(bridge_iface2)
#node one interface
N1 = slice.add_node(name=node1_name, site=site, cores=base_cores, ram=base_ram, disk=base_disk, image=desired_image)
N1_Nic =  N1.add_component(model=nic_model, name=node1_nic_name).get_interfaces()[0]
net1.add_interface(N1_Nic)
#node 2 interface
N2 = slice.add_node(name=node2_name, site=site, cores=base_cores, ram=base_ram, disk=base_disk, image=desired_image)
N2_Nic = N2.add_component(model= nic_model, name=node2_nic_name).get_interfaces()[0]
net1.add_interface(N2_Nic)
slice.submit();
#Assigning IP Addresses to Nodes and Router interfaces
N1 = slice.get_node(name=node1_name)
nic1 = N1.get_interface(network_name=network1_name)
#print(nic1)
nic1.ip_addr_add(IPv4Address('192.168.1.1'), subnet)

N2 = slice.get_node(name=node2_name)
nic2 = N2.get_interface(network_name=network1_name)
#print(nic2)
nic2.ip_addr_add(IPv4Address('192.168.1.4'), subnet)
stdout, stderr = N2.execute(f'sudo apt-get update -y')
stdout, stderr = N1.execute(f'sudo apt-get install -y net-tools')
'''
50-cloud-init.yaml file contents for bridge node (replace MAC address with current mode MAC)


# This file is generated from information provided by the datasource.  Changes
# to it will not persist across an instance reboot.  To disable cloud-init's
# network configuration capabilities, write a file
# /etc/cloud/cloud.cfg.d/99-disable-network-config.cfg with the following:
# network: {config: disabled}
network:
    version: 2
    ethernets:
        enp3s0:
            dhcp4: yes
            dhcp6: no
            match:
                macaddress: 
            mtu: 9000
            set-name: enp3s0
        enp7s0:
            dhcp4: false

        enp8s0:
            dhcp4: false
    bridges:
        br0:
          dhcp4: no
          interfaces:
            - enp7s0
            - enp8s0
'''

'''
bridge command reference: https://man7.org/linux/man-pages/man8/bridge.8.html

COMMANDS:
sudo bridge -s fdb
sudo netplan apply
'''

'''
OS IMAGES:
https://learn.fabric-testbed.net/knowledge-base/exciting-updates-in-fabric-post-1-7-new-features-now-available/
https://learn.fabric-testbed.net/knowledge-base/network-services-in-fabric/#layer-2-services
'''
