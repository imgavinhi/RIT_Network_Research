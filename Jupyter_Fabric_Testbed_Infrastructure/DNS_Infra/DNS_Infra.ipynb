{
 "cells": [
  {
   "cell_type": "code",
   "execution_count": null,
   "id": "8efb083b-268d-4912-9ff7-70f74b47b387",
   "metadata": {},
   "outputs": [],
   "source": [
    "#Gavin Hunsinger\n",
    "\n",
    "from ipaddress import ip_address, IPv4Address, IPv6Address, IPv4Network, IPv6Network\n",
    "import ipaddress\n",
    "\n",
    "from fabrictestbed_extensions.fablib.fablib import FablibManager as fablib_manager\n",
    "\n",
    "fablib = fablib_manager()\n",
    "                     \n",
    "fablib.show_config();"
   ]
  },
  {
   "cell_type": "code",
   "execution_count": 2,
   "id": "24f3ef7a-c4ab-4746-843b-2da6b7200f9e",
   "metadata": {},
   "outputs": [],
   "source": [
    "slice_name = 'DNS_Server_Infra'\n",
    "\n",
    "site1 = \"SALT\"\n",
    "base_cores=2\n",
    "base_ram=8\n",
    "base_disk=10\n",
    "desired_image='default_ubuntu_22'\n",
    "\n",
    "node1_name = 'ntp-make'\n",
    "node2_name = 'ntp-client'\n",
    "router1_name = 'R1'\n",
    "\n",
    "network1_name='server_side' \n",
    "network2_name='client_side'\n",
    "\n",
    "nic_model = 'NIC_Basic'\n",
    "\n",
    "node1_nic_name = 'NODE1NIC'\n",
    "node2_nic_name = 'NODE2NIC'\n",
    "node3_nic_name = 'NODE3NIC'\n",
    "\n",
    "R1_nic1_name = 'nicR1a' #R1 interfaces\n",
    "R1_nic2_name = 'nicR1b'"
   ]
  },
  {
   "cell_type": "code",
   "execution_count": 3,
   "id": "4e029495-d655-47ce-a7f7-507afbcb14ec",
   "metadata": {},
   "outputs": [],
   "source": [
    "#Create Slice\n",
    "slice = fablib.new_slice(name=slice_name)"
   ]
  },
  {
   "cell_type": "code",
   "execution_count": 4,
   "id": "2f7ecd5d-35cb-44c5-b582-8762f68a7cf3",
   "metadata": {},
   "outputs": [],
   "source": [
    "#network definitions\n",
    "#subnets and gateways used for routing configurations\n",
    "net1_subnet = IPv4Network(\"10.10.10.0/24\")\n",
    "net1 = slice.add_l2network(name=network1_name, subnet=net1_subnet)\n",
    "\n",
    "net2_subnet = IPv4Network(\"192.168.47.0/24\")\n",
    "net2 = slice.add_l2network(name=network2_name, subnet=net2_subnet)"
   ]
  },
  {
   "cell_type": "code",
   "execution_count": 5,
   "id": "6e67fd74-a371-4844-aa5b-fafc6ad2934c",
   "metadata": {},
   "outputs": [],
   "source": [
    "R1 = slice.add_node(name=router1_name, site=site1, cores=base_cores, ram=base_ram, disk=base_disk, image=desired_image)\n",
    "R1_iface1 = R1.add_component(model=nic_model, name=R1_nic1_name).get_interfaces()[0]\n",
    "R1_iface2 = R1.add_component(model=nic_model, name=R1_nic2_name).get_interfaces()[0]\n",
    "\n",
    "net1.add_interface(R1_iface1)\n",
    "net2.add_interface(R1_iface2)"
   ]
  },
  {
   "cell_type": "code",
   "execution_count": 6,
   "id": "90fcf409-b892-47d2-aba1-0deec81569e7",
   "metadata": {},
   "outputs": [],
   "source": [
    "R1.add_route(subnet=net2_subnet, next_hop=net1.get_gateway())\n",
    "R1.add_route(subnet=net1_subnet, next_hop=net2.get_gateway())"
   ]
  },
  {
   "cell_type": "code",
   "execution_count": 7,
   "id": "05ce79b6-df44-493d-af1a-9309664c9fe6",
   "metadata": {},
   "outputs": [],
   "source": [
    "#server\n",
    "N1 = slice.add_node(name=node1_name, site=site1, cores=base_cores, ram=base_ram, disk=base_disk, image=desired_image)\n",
    "N1_Nic =  N1.add_component(model=nic_model, name=node1_nic_name).get_interfaces()[0]\n",
    "net2.add_interface(N1_Nic)"
   ]
  },
  {
   "cell_type": "code",
   "execution_count": 8,
   "id": "f92b0959-dfd5-4b5b-bb08-44d08dc4c06a",
   "metadata": {},
   "outputs": [],
   "source": [
    "#client\n",
    "N2 = slice.add_node(name=node2_name, site=site1, cores=base_cores, ram=base_ram, disk=base_disk, image=desired_image)\n",
    "N2_Nic = N2.add_component(model= nic_model, name=node2_nic_name).get_interfaces()[0]\n",
    "net2.add_interface(N2_Nic)"
   ]
  },
  {
   "cell_type": "code",
   "execution_count": 9,
   "id": "a8473ec6-8cef-4524-9698-1a948b109140",
   "metadata": {},
   "outputs": [],
   "source": [
    "N1.add_route(subnet=net1_subnet, next_hop=net2.get_gateway())\n",
    "\n",
    "N2.add_route(subnet=net1_subnet, next_hop=net2.get_gateway())"
   ]
  },
  {
   "cell_type": "code",
   "execution_count": 10,
   "id": "cbf59ea5-34a1-4f29-9843-e10f1cfddd4e",
   "metadata": {},
   "outputs": [
    {
     "name": "stderr",
     "output_type": "stream",
     "text": [
      "Exception ignored in: <bound method IPythonKernel._clean_thread_parent_frames of <ipykernel.ipkernel.IPythonKernel object at 0x7f7e0cf76510>>\n",
      "Traceback (most recent call last):\n",
      "  File \"/opt/conda/lib/python3.11/site-packages/ipykernel/ipkernel.py\", line 775, in _clean_thread_parent_frames\n",
      "KeyboardInterrupt: \n",
      "\n",
      "KeyboardInterrupt\n",
      "\n"
     ]
    }
   ],
   "source": [
    "slice.submit();"
   ]
  },
  {
   "cell_type": "code",
   "execution_count": null,
   "id": "83f02213-18f1-4963-b9a3-c4051a5991a3",
   "metadata": {},
   "outputs": [],
   "source": [
    "#client and server on 192.168.47.0/24\n",
    "N1 = slice.get_node(name=node1_name)\n",
    "nic1 = N1.get_interface(network_name=network2_name)\n",
    "nic1.ip_addr_add(IPv4Address('192.168.47.101'), net2_subnet)\n",
    "\n",
    "#client\n",
    "N2 = slice.get_node(name=node2_name)\n",
    "nic2 = N2.get_interface(network_name=network2_name)\n",
    "nic2.ip_addr_add(IPv4Address('192.168.47.50'), net2_subnet)"
   ]
  },
  {
   "cell_type": "code",
   "execution_count": null,
   "id": "3745b7ee-33cb-4bc5-b4ab-01f8299b98ab",
   "metadata": {},
   "outputs": [],
   "source": [
    "#router\n",
    "R1 = slice.get_node(name=router1_name)\n",
    "R1nic1 = R1.get_interface(network_name =network1_name)\n",
    "R1nic2 = R1.get_interface(network_name =network2_name)\n",
    "R1nic1.ip_addr_add(IPv4Address('10.10.10.254'), net1_subnet)\n",
    "R1nic2.ip_addr_add(IPv4Address('192.168.47.254'), net2_subnet)"
   ]
  },
  {
   "cell_type": "code",
   "execution_count": null,
   "id": "3799580c-02f9-4ae8-a275-9434c5f40944",
   "metadata": {},
   "outputs": [],
   "source": [
    "#router's routing table\n",
    "stdout, stderr = R1.execute(f'sudo ip link set enp7s0 up')\n",
    "stdout, stderr = R1.execute(f'sudo ip link set enp8s0 up')\n",
    "stdout, stderr = R1.execute(f'sudo sysctl net.ipv4.ip_forward=1')\n",
    "\n",
    "stdout, stderr = R1.execute(f'sudo ufw status verbose')"
   ]
  },
  {
   "cell_type": "code",
   "execution_count": null,
   "id": "4c3a75ac-023e-4a1e-9263-c8cc649b1b1b",
   "metadata": {},
   "outputs": [],
   "source": [
    "#server routing table\n",
    "stdout, stderr = N1.execute(f'sudo ip link set enp7s0 up')\n",
    "stdout, stderr = N1.execute(f'sudo ip route add 10.10.10.0/24 via 192.168.47.254')\n",
    "stdout, stderr = N1.execute(f'sudo ufw status verbose')"
   ]
  },
  {
   "cell_type": "code",
   "execution_count": null,
   "id": "6e8293b2-e04c-4496-adb4-f97f1882fb27",
   "metadata": {},
   "outputs": [],
   "source": [
    "#client routing table\n",
    "stdout, stderr = N2.execute(f'sudo ip link set enp7s0 up')\n",
    "stdout, stderr = N2.execute(f'sudo ip route add 10.10.10.0/24 via 192.168.47.254')\n",
    "stdout, stderr = N2.execute(f'sudo ufw status verbose')"
   ]
  },
  {
   "cell_type": "code",
   "execution_count": null,
   "id": "76277056-9a2f-4392-aad7-8fbc3cab01b2",
   "metadata": {},
   "outputs": [],
   "source": [
    "stdout, stderr = N1.execute(f'sudo apt-get -y update')"
   ]
  },
  {
   "cell_type": "code",
   "execution_count": null,
   "id": "c990b5d5-44d3-48f0-855c-111bafda4df4",
   "metadata": {},
   "outputs": [],
   "source": [
    "stdout, stderr = N2.execute(f'sudo apt-get -y update')"
   ]
  },
  {
   "cell_type": "code",
   "execution_count": null,
   "id": "4e5e3bfd-0130-4b52-8e6f-df2cfdf140c4",
   "metadata": {},
   "outputs": [],
   "source": [
    "stdout, stderr = N1.execute(f'sudo apt-get install net-tools bind9 bind9utils bind9-doc dnsutils git -y')"
   ]
  },
  {
   "cell_type": "code",
   "execution_count": null,
   "id": "3558a6b2-5f27-4537-9717-3399925b27b2",
   "metadata": {},
   "outputs": [],
   "source": [
    "stdout, stderr = N2.execute(f'sudo apt-get install dnsutils net-tools git -y')"
   ]
  },
  {
   "cell_type": "code",
   "execution_count": null,
   "id": "48007a14-5b79-41fa-94c6-b95117cbe0e5",
   "metadata": {},
   "outputs": [],
   "source": [
    "#dns server setup\n",
    "stdout, stderr = N1.execute(f'git clone https://github.com/imgavinhi/RIT_Network_Research')"
   ]
  },
  {
   "cell_type": "code",
   "execution_count": null,
   "id": "2e227c85-4ee3-46f7-8ae7-80bd0d0461ef",
   "metadata": {},
   "outputs": [],
   "source": [
    "#starting and enabling dns service\n",
    "stdout, stderr = N1.execute(f'sudo systemctl enable --now bind9')"
   ]
  },
  {
   "cell_type": "code",
   "execution_count": null,
   "id": "a0f30576-cc38-406f-a8f2-c263253ecd5e",
   "metadata": {},
   "outputs": [],
   "source": [
    "#copying dns config files where they should go\n",
    "stdout, stderr = N1.execute(f'sudo mkdir -p /etc/bind/zones')\n",
    "stdout, stderr = N1.execute(f'sudo cp /home/ubuntu/RIT_Network_Research/Jupyter_Fabric_Testbed_Infrastructure/DNS_Infra/named.conf.options /etc/bind/named.conf.options')\n",
    "stdout, stderr = N1.execute(f'sudo cp /home/ubuntu/RIT_Network_Research/Jupyter_Fabric_Testbed_Infrastructure/DNS_Infra/named.conf.local /etc/bind/named.conf.local')\n",
    "stdout, stderr = N1.execute(f'sudo cp /home/ubuntu/RIT_Network_Research/Jupyter_Fabric_Testbed_Infrastructure/DNS_Infra/research.net /etc/bind/zones/research.net')\n",
    "stdout, stderr = N1.execute(f'sudo cp /home/ubuntu/RIT_Network_Research/Jupyter_Fabric_Testbed_Infrastructure/DNS_Infra/research.net.rev /etc/bind/zones/research.net.rev')"
   ]
  },
  {
   "cell_type": "code",
   "execution_count": null,
   "id": "a0e47a0c-169f-4086-9a3d-f5e77b7e6f74",
   "metadata": {},
   "outputs": [],
   "source": [
    "#applying server config\n",
    "stdout, stderr = N1.execute(f'sudo systemctl restart bind9')"
   ]
  },
  {
   "cell_type": "code",
   "execution_count": null,
   "id": "76e3d1dd-9622-487d-a121-34c3945430cb",
   "metadata": {},
   "outputs": [],
   "source": [
    "#checking server status\n",
    "stdout, stderr = N1.execute(f'sudo systemctl status bind9 --no-pager')"
   ]
  },
  {
   "cell_type": "code",
   "execution_count": null,
   "id": "68cafc1d-08ca-4bc1-abcc-74c781e6152f",
   "metadata": {},
   "outputs": [],
   "source": [
    "#dns client setup\n",
    "stdout, stderr = N2.execute(f'git clone https://github.com/imgavinhi/RIT_Network_Research')"
   ]
  },
  {
   "cell_type": "code",
   "execution_count": null,
   "id": "2e68dc42-5f40-4e42-a929-c97fcdbba6b2",
   "metadata": {},
   "outputs": [],
   "source": [
    "#copying dns client/server files to where they should go\n",
    "#copying dns client files to where they should go\n",
    "stdout, stderr = N1.execute(f'sudo cp /home/ubuntu/RIT_Network_Research/Jupyter_Fabric_Testbed_Infrastructure/DNS_Infra/resolv.conf /etc/resolv.conf')\n",
    "stdout, stderr = N2.execute(f'sudo cp /home/ubuntu/RIT_Network_Research/Jupyter_Fabric_Testbed_Infrastructure/DNS_Infra/resolv.conf /etc/resolv.conf')"
   ]
  },
  {
   "cell_type": "code",
   "execution_count": null,
   "id": "6d1db47c-e3d3-49e9-94f8-05fc1ce4f418",
   "metadata": {},
   "outputs": [],
   "source": [
    "#need to install tshark on client and server (tshark)"
   ]
  }
 ],
 "metadata": {
  "kernelspec": {
   "display_name": "Python 3 (ipykernel)",
   "language": "python",
   "name": "python3"
  },
  "language_info": {
   "codemirror_mode": {
    "name": "ipython",
    "version": 3
   },
   "file_extension": ".py",
   "mimetype": "text/x-python",
   "name": "python",
   "nbconvert_exporter": "python",
   "pygments_lexer": "ipython3",
   "version": "3.11.9"
  }
 },
 "nbformat": 4,
 "nbformat_minor": 5
}
