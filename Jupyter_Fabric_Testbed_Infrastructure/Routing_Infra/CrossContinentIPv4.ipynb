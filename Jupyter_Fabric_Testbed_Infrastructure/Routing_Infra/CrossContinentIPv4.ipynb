#Gavin Hunsinger

from ipaddress import ip_address, IPv4Address, IPv6Address, IPv4Network, IPv6Network
import ipaddress

from fabrictestbed_extensions.fablib.fablib import FablibManager as fablib_manager

fablib = fablib_manager()
                     
fablib.show_config();
#Defining the slice, sites, nodes, nics, routers, etc
slice_name = 'Gavin_Hunsinger_Week5CrossContinents_03/17/2024'

site1 = "HAWI"
site2 = "WASH"
site3 = "AMST"
base_cores=2
base_ram=8
base_disk=10
desired_image='default_ubuntu_22'

node1_name = 'N1'
node2_name = 'N2'
node3_name = 'N3'

router1_name = 'R1'
router2_name = 'R2'

network1_name='net1' 
network2_name='net2'
network3_name = 'net3'
net_type = 'IPv4'

nic_model = 'NIC_Basic'
node1_nic_name = 'nic1N1'
node2_nic_name = 'nic2N2'
node3_nic_name = 'nic3N3'

R1_nic1_name = 'nicR1a' #R1 interfaces
R1_nic2_name = 'nicR1b'
R2_nic1_name = 'nicR2a' #R2 interfaces
R2_nic2_name = 'nicR2b'
#creating a slice
slice = fablib.new_slice(name=slice_name)
#network definitions
#subnets and gateways used for routing configurations
net1_subnet = IPv4Network("192.168.1.0/24")
net1 = slice.add_l2network(name=network1_name, subnet=net1_subnet)

net2_subnet = IPv4Network("192.168.2.0/24")
net2 = slice.add_l2network(name=network2_name, subnet=net2_subnet)

#Net3 needs to be a l2network
net3_subnet = IPv4Network("192.168.3.0/24")
net3 = slice.add_l2network(name=network3_name, subnet=net3_subnet)
#Router 1 site one
R1 = slice.add_node(name=router1_name, site=site1, cores=base_cores, ram=base_ram, disk=base_disk, image=desired_image)
R1_iface1 = R1.add_component(model=nic_model, name=R1_nic1_name).get_interfaces()[0]
R1_iface2 = R1.add_component(model=nic_model, name=R1_nic2_name).get_interfaces()[0]

net1.add_interface(R1_iface1)
net2.add_interface(R1_iface2)
#Router 2 on site two potentially?
R2 = slice.add_node(name=router2_name, site=site2, cores=base_cores, ram=base_ram, disk=base_disk, image=desired_image)
R2_iface1 = R2.add_component(model=nic_model, name=R2_nic1_name).get_interfaces()[0]
R2_iface2 = R2.add_component(model=nic_model, name=R2_nic2_name).get_interfaces()[0]

net2.add_interface(R2_iface1)
net3.add_interface(R2_iface2)
#Routers' Connections
R1.add_route(subnet=net2_subnet, next_hop=net1.get_gateway())
R1.add_route(subnet=net3_subnet, next_hop=net2.get_gateway()) #FABNetv4 cannot span 2 sites soo maybe this will work

R2.add_route(subnet=net1_subnet, next_hop=net2.get_gateway())
R2.add_route(subnet=net3_subnet, next_hop=net3.get_gateway())
#Node 1 site one
N1 = slice.add_node(name=node1_name, site=site1, cores=base_cores, ram=base_ram, disk=base_disk, image=desired_image)
N1_Nic =  N1.add_component(model=nic_model, name=node1_nic_name).get_interfaces()[0]
net1.add_interface(N1_Nic)
#Node2 site one
N2 = slice.add_node(name=node2_name, site=site2, cores=base_cores, ram=base_ram, disk=base_disk, image=desired_image)
N2_Nic = N2.add_component(model= nic_model, name=node2_nic_name).get_interfaces()[0]
net2.add_interface(N2_Nic)
#Node3 site two
N3 = slice.add_node(name=node3_name, site=site3, cores=base_cores, ram=base_ram, disk=base_disk, image=desired_image)
N3_Nic = N3.add_component(model=nic_model, name=node3_nic_name).get_interfaces()[0]
net3.add_interface(N3_Nic)
#Nodes' Connections
N1.add_route(subnet=net2_subnet, next_hop=net1.get_gateway())

N2.add_route(subnet=net3_subnet, next_hop=net2.get_gateway())
#N2.add_route(subnet=net1_subnet, next_hop=net2.get_gateway())

N3.add_route(subnet=net2_subnet, next_hop=net3.get_gateway())
slice.submit();
#Assigning IP Addresses to Nodes and Router interfaces
N1 = slice.get_node(name=node1_name)
nic1 = N1.get_interface(network_name=network1_name)
nic1.ip_addr_add(IPv4Address('192.168.1.1'), net1_subnet)

N2 = slice.get_node(name=node2_name)
nic2 = N2.get_interface(network_name=network2_name)
nic2.ip_addr_add(IPv4Address('192.168.2.1'), net2_subnet)

N3 = slice.get_node(name=node3_name)
nic3 = N3.get_interface(network_name=network3_name)
nic3.ip_addr_add(IPv4Address('192.168.3.1'), net3_subnet)

R1 = slice.get_node(name=router1_name)
R1nic1 = R1.get_interface(network_name =network1_name)
R1nic2 = R1.get_interface(network_name =network2_name)
R1nic1.ip_addr_add(IPv4Address('192.168.1.254'), net1_subnet)
R1nic2.ip_addr_add(IPv4Address('192.168.2.253'), net2_subnet)

R2 = slice.get_node(name=router2_name)
R2nic1 = R2.get_interface(network_name =network2_name)
R2nic2 = R2.get_interface(network_name =network3_name)
R2nic1.ip_addr_add(IPv4Address('192.168.2.254'), net2_subnet)
R2nic2.ip_addr_add(IPv4Address('192.168.3.253'), net3_subnet)
#Routers Routing Table Commands
stdout, stderr = R1.execute(f'sudo ip link set enp7s0 up')
stdout, stderr = R1.execute(f'sudo ip link set enp8s0 up')
stdout, stderr = R1.execute(f'sudo ufw status verbose')

stdout, stderr = R2.execute(f'sudo ip link set enp7s0 up')
stdout, stderr = R2.execute(f'sudo ip link set enp8s0 up')
stdout, stderr = R2.execute(f'sudo ufw status verbose')
stdout, stderr = R1.execute(f'sudo apt-get update')
stdout, stderr = R2.execute(f'sudo apt-get update')
stdout, stderr = N1.execute(f'sudo apt-get update')
stdout, stderr = N2.execute(f'sudo apt-get update')
stdout, stderr = N3.execute(f'sudo apt-get update')
#Nodes Routing Table Commands
stdout, stderr = N1.execute(f'sudo ip link set enp7s0 up')
stdout, stderr = N1.execute(f'sudo ip route add 192.168.3.0/24 via 192.168.1.254')
stdout, stderr = N1.execute(f'sudo ip route add 192.168.2.0/24 via 192.168.1.254')
stdout, stderr = N1.execute(f'sudo ufw status verbose')

stdout, stderr = N2.execute(f'sudo ip link set enp7s0 up')
stdout, stderr = N2.execute(f'sudo ip route add 192.168.1.0/24 via 192.168.2.253')
stdout, stderr = N2.execute(f'sudo ip route add 192.168.3.0/24 via 192.168.2.254')
stdout, stderr = N2.execute(f'sudo ufw status verbose')

stdout, stderr = N3.execute(f'sudo ip link set enp7s0 up')
stdout, stderr = N3.execute(f'sudo ip route add 192.168.1.0/24 via 192.168.3.253')
stdout, stderr = N3.execute(f'sudo ip route add 192.168.2.0/24 via 192.168.3.253')
stdout, stderr = N3.execute(f'sudo ufw status verbose')
#frr install
stdout, stderr = R1.execute(f'sudo apt-get install -y frr')
#frr install
stdout, stderr = R2.execute(f'sudo apt-get install -y frr')
stdout, stderr = R1.execute(f'sudo systemctl enable frr.service')
stdout, stderr = R1.execute(f'sudo systemctl start frr.service')


'''
Run the following commands on the command line to add static entries for frr routing
stdout, stderr = R1.execute(f'sudo vtysh')
stdout, stderr = R1.execute(f'conf t')
stdout, stderr = R1.execute(f'ip forwarding')
stdout, stderr = R1.execute(f'ip route 192.168.3.0 255.255.255.0 192.168.2.254')
'''
stdout, stderr = R2.execute(f'sudo systemctl enable frr.service')
stdout, stderr = R2.execute(f'sudo systemctl start frr.service')


'''
Run the following commands on the command line to add static entries for frr routing
stdout, stderr = R1.execute(f'sudo vtysh')
stdout, stderr = R1.execute(f'conf t')
stdout, stderr = R1.execute(f'ip forwarding')
stdout, stderr = R1.execute(f'ip route 192.168.1.0 255.255.255.0 192.168.2.253')
'''
stdout, stderr = R1.execute(f'sudo apt-get install -y net-tools')
stdout, stderr = R2.execute(f'sudo apt-get install -y net-tools')
#iperf client installation commands
stdout, stderr = N1.execute(f'sudo apt install -y iperf3')

#server command: stdout, stderr = N1.execute(f'iperf3 -s')
stdout, stderr = N1.execute(f'sudo apt-get install -y tshark')
#iperf client installation commands
stdout, stderr = N3.execute(f'sudo apt install -y iperf3')

#client command: stdout, stderr = N3.execute(f'iperf3 -c 192.168.1.1')
stdout, stderr = N3.execute(f'sudo apt-get install -y tshark')
#nmap install
stdout, stderr = N2.execute(f'sudo apt-get install -y nmap')

'''
Example test for ping scan:
sudo nmap -sn 192.168.0.0/22
'''
#tcpdump install
stdout, stderr = N1.execute(f'sudo apt-get install -y tcpdump')
stdout, stderr = N3.execute(f'sudo apt-get install -y tcpdump')
'''
Example test for ping scan:
sudo tcpdump -i eth0 -c 10 -vv
'''
