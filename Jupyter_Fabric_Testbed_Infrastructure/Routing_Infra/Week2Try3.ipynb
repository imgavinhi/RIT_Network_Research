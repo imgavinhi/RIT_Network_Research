slice_name = 'Gavin_Hunsinger_Week2Try3_02/18/2024'

site = "MASS"

node1_name = 'skywalker'
node2_name = 'atreides'
node3_name = 'laureline'

network1_name='StarWars' 
network2_name='Dune'
network3_name = 'Valerian'

node1_nic_name = 'NODE1NIC'
node2_nic_name = 'NODE2NIC'
node3_nic_name = 'NODE3NIC'
#Create Slice
slice = fablib.new_slice(name=slice_name)
#subnets and gateways used for routing configurations
net1 = slice.add_l3network(name=network1_name, type='IPv4')
net1 = slice.get_network(name=network1_name)
net1_available_ips = net1.get_available_ips()
net1_subnet = IPv4Network("192.168.1.0/24")
net1_available_ips = list(net1_subnet)[1:]

net2 = slice.add_l3network(name=network2_name, type='IPv4')
net2 = slice.get_network(name=network2_name)
net2_available_ips = net2.get_available_ips()
net2_subnet = IPv4Network("192.168.2.0/24")
net2_available_ips = list(net2_subnet)[1:]

net3 = slice.add_l3network(name=network3_name, type='IPv4')
net3 = slice.get_network(name=network3_name)
net3_available_ips = net3.get_available_ips()
net3_subnet = IPv4Network("192.168.3.0/24")
net3_available_ips = list(net3_subnet)[1:]
#router one configs
router1 = slice.add_node(name='router1', site=site, cores=4, ram=8, disk=100)
router1_local_iface1 = router1.add_component(model='NIC_Basic', name='R1NIC1').get_interfaces()[0]
router1_local_iface2 = router1.add_component(model='NIC_Basic', name='R1NIC2').get_interfaces()[0]

router1_local_iface1.set_mode('config')
#router1_local_iface1.set_ip_addr(IPv4Address("192.168.1.254"))
net1.add_interface(router1_local_iface1)
#router1_local_iface1.ip_addr_add(IPv4Address("192.168.1.254"), net1_subnet)

router1_local_iface2.set_mode('config')
net2.add_interface(router1_local_iface2)
#router1_local_iface2.set_ip_addr(IPv4Address("192.168.2.253"))

#Router 1 Routing table entries
router1.add_route(subnet=net2_subnet, next_hop=net1.get_gateway())
router1.add_route(subnet=net3_subnet, next_hop=net2.get_gateway())
#router two configs
router2 = slice.add_node(name='router2', site=site, cores=4, ram=8, disk=100)
router2_local_iface1 = router2.add_component(model='NIC_Basic', name='R2NIC1').get_interfaces()[0]
router2_local_iface2 = router2.add_component(model='NIC_Basic', name='R2NIC2').get_interfaces()[0]

router2_local_iface1.set_mode('config')
net2.add_interface(router2_local_iface1)
#router2_local_iface1.set_ip_addr(IPv4Address("192.168.2.254"))

router2_local_iface2.set_mode('config')
net3.add_interface(router2_local_iface2)
#router2_local_iface2.set_ip_addr(IPv4Address("192.168.3.253"))

#Router 2 Routing tables entries
router2.add_route(subnet=net1_subnet, next_hop=net2.get_gateway())
router2.add_route(subnet=net3_subnet, next_hop=net3.get_gateway())

#Node 1 192.168.2.1
node1 = slice.add_node(name=node1_name, site=site)
node1_iface = node1.add_component(model='NIC_Basic', name=node1_nic_name).get_interfaces()[0]
node1_iface.set_mode('config')
net1.add_interface(node1_iface)
#node1_iface.set_ip_addr(IPv4Address("192.168.1.1"))
#print(net1_available_ips.pop())

#Node 2 192.168.2.1
node2 = slice.add_node(name=node2_name, site=site)
node2_iface = node2.add_component(model='NIC_Basic', name=node2_nic_name).get_interfaces()[0]
node2_iface.set_mode('config')
net2.add_interface(node2_iface)
#node2_iface.set_ip_addr(IPv4Address("192.168.2.1"))

#Node 3 192.168.3.1
node3 = slice.add_node(name=node3_name, site=site)
node3_iface = node3.add_component(model='NIC_Basic', name=node3_nic_name).get_interfaces()[0]
node3_iface.set_mode('config')
net3.add_interface(node3_iface)
#node3_iface.set_ip_addr(IPv4Address("192.168.3.1"))
#node routing tables
node1.add_route(subnet=fablib.FABNETV4_SUBNET, next_hop=net1.get_gateway())

node2.add_route(subnet=fablib.FABNETV4_SUBNET, next_hop=net2.get_gateway())

node3.add_route(subnet=fablib.FABNETV4_SUBNET, next_hop=net3.get_gateway())
slice.submit();
#Assigning Addresses to Node and Router interfaces
N1 = slice.get_node(name=node1_name)
nic1 = N1.get_interface(network_name=network1_name)
nic1.ip_addr_add(IPv4Address('192.168.1.1'), net1_subnet)

N2 = slice.get_node(name=node2_name)
nic2 = N2.get_interface(network_name=network2_name)
nic2.ip_addr_add(IPv4Address('192.168.2.1'), net2_subnet)

N3 = slice.get_node(name=node3_name)
nic3 = N3.get_interface(network_name=network3_name)
nic3.ip_addr_add(IPv4Address('192.168.3.1'), net3_subnet)

R1 = slice.get_node(name='router1')
R1nic1 = R1.get_interface(network_name =network1_name)
R1nic2 = R1.get_interface(network_name =network2_name)
R1nic1.ip_addr_add(IPv4Address('192.168.1.254'), net1_subnet)
R1nic2.ip_addr_add(IPv4Address('192.168.2.253'), net2_subnet)

R2 = slice.get_node(name='router2')
R2nic1 = R2.get_interface(network_name =network2_name)
R2nic2 = R2.get_interface(network_name =network3_name)
R2nic1.ip_addr_add(IPv4Address('192.168.2.254'), net2_subnet)
R2nic2.ip_addr_add(IPv4Address('192.168.3.253'), net3_subnet)
#Commands
#stdout, stderr = R1.execute(f'sudo ip link set inet6 up')

stdout, stderr = R1.execute(f'sudo sysctl net.ipv4.ip_forward=1')

stdout, stderr = R1.execute(f'sudo ip route add 192.168.3.0/24 via 192.168.2.254')
stdout, stderr = R1.execute(f'sudo ip route add 192.168.1.0/24 via 192.168.2.253')

#stdout, stderr = router2.execute(f'sudo ip link set inet6 up')

stdout, stderr = R2.execute(f'sudo sysctl net.ipv4.ip_forward=1')
stdout, stderr = R2.execute(f'sudo ip route add 192.168.1.0/24 via 192.168.2.253')

stdout, stderr = N1.execute(f'sudo ip link set eth1 up')
stdout, stderr = N1.execute(f'sudo ip route add 192.168.3.0/24 via 192.168.1.254')
stdout, stderr = N1.execute(f'sudo ip route add 192.168.2.0/24 via 192.168.1.254')

stdout, stderr = N2.execute(f'sudo ip link set eth1 up')
stdout, stderr = N2.execute(f'sudo ip route add 192.168.1.0/24 via 192.168.2.253')
stdout, stderr = N2.execute(f'sudo ip route add 192.168.3.0/24 via 192.168.2.254')

stdout, stderr = N3.execute(f'sudo ip link set eth1 up')
stdout, stderr = N3.execute(f'sudo ip route add 192.168.1.0/24 via 192.168.3.253')
stdout, stderr = N3.execute(f'sudo ip route add 192.168.2.0/24 via 192.168.3.253')
